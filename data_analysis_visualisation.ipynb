{
 "cells": [
  {
   "cell_type": "markdown",
   "id": "cc72937b-ed29-4b3a-b1a0-bc2d5dfc4aec",
   "metadata": {
    "tags": []
   },
   "source": [
    "## Cleansing Result Data Analysis & Visualisation"
   ]
  },
  {
   "cell_type": "markdown",
   "id": "5be7d269-9905-4092-a166-0438d4bcc57e",
   "metadata": {},
   "source": [
    "#### Data yang digunakan untuk analisis dan visualisasi adalah data hasil proses cleansing kata alay dan kata abusive.\n",
    "#### Sebagai contoh data yang digunakan adalah \"data.csv\" yang bersumber dari https://www.kaggle.com/datasets/ilhamfp31/indonesian-abusive-and-hate-speech-twitter-text"
   ]
  },
  {
   "cell_type": "markdown",
   "id": "1b2b6e5a-ea85-4ce0-ac6a-688fe76acc83",
   "metadata": {},
   "source": [
    "### Import library"
   ]
  },
  {
   "cell_type": "code",
   "execution_count": 1,
   "id": "f8ed42c2-552a-4255-8fe6-e4c619921ca4",
   "metadata": {
    "tags": []
   },
   "outputs": [],
   "source": [
    "import re\n",
    "import pandas as pd\n",
    "import seaborn as sns\n",
    "from matplotlib import pyplot as plt\n",
    "import sqlite3"
   ]
  },
  {
   "cell_type": "markdown",
   "id": "323eb671-d774-4a3d-a43a-44736ed1a5d7",
   "metadata": {},
   "source": [
    "### Create Connection to gold_challenge Database"
   ]
  },
  {
   "cell_type": "code",
   "execution_count": 2,
   "id": "885a97db-1712-486b-828f-387f47ec1468",
   "metadata": {
    "tags": []
   },
   "outputs": [],
   "source": [
    "connection = sqlite3.connect('gold_challenge.db')"
   ]
  },
  {
   "cell_type": "code",
   "execution_count": 3,
   "id": "4702c29b-82a8-4a13-8098-1cb5ad8ab8e1",
   "metadata": {
    "tags": []
   },
   "outputs": [
    {
     "data": {
      "text/html": [
       "<div>\n",
       "<style scoped>\n",
       "    .dataframe tbody tr th:only-of-type {\n",
       "        vertical-align: middle;\n",
       "    }\n",
       "\n",
       "    .dataframe tbody tr th {\n",
       "        vertical-align: top;\n",
       "    }\n",
       "\n",
       "    .dataframe thead th {\n",
       "        text-align: right;\n",
       "    }\n",
       "</style>\n",
       "<table border=\"1\" class=\"dataframe\">\n",
       "  <thead>\n",
       "    <tr style=\"text-align: right;\">\n",
       "      <th></th>\n",
       "      <th>raw_text</th>\n",
       "      <th>clean_text</th>\n",
       "      <th>jumlah_kata_abusive</th>\n",
       "    </tr>\n",
       "  </thead>\n",
       "  <tbody>\n",
       "    <tr>\n",
       "      <th>0</th>\n",
       "      <td>- disaat semua cowok berusaha melacak perhatia...</td>\n",
       "      <td>di saat semua cowok berusaha melacak perhatian...</td>\n",
       "      <td>1</td>\n",
       "    </tr>\n",
       "    <tr>\n",
       "      <th>1</th>\n",
       "      <td>RT USER: USER siapa yang telat ngasih tau elu?...</td>\n",
       "      <td>rt siapa yang telat memberi tau kamu e*** s***...</td>\n",
       "      <td>2</td>\n",
       "    </tr>\n",
       "    <tr>\n",
       "      <th>2</th>\n",
       "      <td>41. Kadang aku berfikir, kenapa aku tetap perc...</td>\n",
       "      <td>41 kadang aku berpikir kenapa aku tetap percay...</td>\n",
       "      <td>0</td>\n",
       "    </tr>\n",
       "    <tr>\n",
       "      <th>3</th>\n",
       "      <td>USER USER AKU ITU AKU\\n\\nKU TAU MATAMU SIPIT T...</td>\n",
       "      <td>aku itu aku ku tau matamu s**** tapi dilihat d...</td>\n",
       "      <td>1</td>\n",
       "    </tr>\n",
       "    <tr>\n",
       "      <th>4</th>\n",
       "      <td>USER USER Kaum cebong kapir udah keliatan dong...</td>\n",
       "      <td>kaum c***** k**** sudah kelihatan dongoknya da...</td>\n",
       "      <td>2</td>\n",
       "    </tr>\n",
       "    <tr>\n",
       "      <th>...</th>\n",
       "      <td>...</td>\n",
       "      <td>...</td>\n",
       "      <td>...</td>\n",
       "    </tr>\n",
       "    <tr>\n",
       "      <th>13164</th>\n",
       "      <td>USER jangan asal ngomong ndasmu. congor lu yg ...</td>\n",
       "      <td>jangan asal berbicara ndasmu c***** kamu yang ...</td>\n",
       "      <td>1</td>\n",
       "    </tr>\n",
       "    <tr>\n",
       "      <th>13165</th>\n",
       "      <td>USER Kasur mana enak kunyuk'</td>\n",
       "      <td>kasur mana enak k*****</td>\n",
       "      <td>1</td>\n",
       "    </tr>\n",
       "    <tr>\n",
       "      <th>13166</th>\n",
       "      <td>USER Hati hati bisu :( .g\\n\\nlagi bosan huft \\...</td>\n",
       "      <td>hati hati b*** tidak lagi bosan duh</td>\n",
       "      <td>1</td>\n",
       "    </tr>\n",
       "    <tr>\n",
       "      <th>13167</th>\n",
       "      <td>USER USER USER USER Bom yang real mudah terdet...</td>\n",
       "      <td>bom yang real mudah terdeteksi bom yang terkub...</td>\n",
       "      <td>0</td>\n",
       "    </tr>\n",
       "    <tr>\n",
       "      <th>13168</th>\n",
       "      <td>USER Mana situ ngasih(\": itu cuma foto ya kuti...</td>\n",
       "      <td>mana situ memberi itu cuma foto ya kutil o***</td>\n",
       "      <td>1</td>\n",
       "    </tr>\n",
       "  </tbody>\n",
       "</table>\n",
       "<p>13169 rows × 3 columns</p>\n",
       "</div>"
      ],
      "text/plain": [
       "                                                raw_text  \\\n",
       "0      - disaat semua cowok berusaha melacak perhatia...   \n",
       "1      RT USER: USER siapa yang telat ngasih tau elu?...   \n",
       "2      41. Kadang aku berfikir, kenapa aku tetap perc...   \n",
       "3      USER USER AKU ITU AKU\\n\\nKU TAU MATAMU SIPIT T...   \n",
       "4      USER USER Kaum cebong kapir udah keliatan dong...   \n",
       "...                                                  ...   \n",
       "13164  USER jangan asal ngomong ndasmu. congor lu yg ...   \n",
       "13165                       USER Kasur mana enak kunyuk'   \n",
       "13166  USER Hati hati bisu :( .g\\n\\nlagi bosan huft \\...   \n",
       "13167  USER USER USER USER Bom yang real mudah terdet...   \n",
       "13168  USER Mana situ ngasih(\": itu cuma foto ya kuti...   \n",
       "\n",
       "                                              clean_text  jumlah_kata_abusive  \n",
       "0      di saat semua cowok berusaha melacak perhatian...                    1  \n",
       "1      rt siapa yang telat memberi tau kamu e*** s***...                    2  \n",
       "2      41 kadang aku berpikir kenapa aku tetap percay...                    0  \n",
       "3      aku itu aku ku tau matamu s**** tapi dilihat d...                    1  \n",
       "4      kaum c***** k**** sudah kelihatan dongoknya da...                    2  \n",
       "...                                                  ...                  ...  \n",
       "13164  jangan asal berbicara ndasmu c***** kamu yang ...                    1  \n",
       "13165                             kasur mana enak k*****                    1  \n",
       "13166                hati hati b*** tidak lagi bosan duh                    1  \n",
       "13167  bom yang real mudah terdeteksi bom yang terkub...                    0  \n",
       "13168      mana situ memberi itu cuma foto ya kutil o***                    1  \n",
       "\n",
       "[13169 rows x 3 columns]"
      ]
     },
     "execution_count": 3,
     "metadata": {},
     "output_type": "execute_result"
    }
   ],
   "source": [
    "# read cleansing result database\n",
    "df = pd.read_sql(\"SELECT * FROM cleansing_result\", connection)\n",
    "df"
   ]
  },
  {
   "cell_type": "markdown",
   "id": "d5d4cd00-933b-4032-a4ef-96827ff77833",
   "metadata": {},
   "source": [
    "### Check Number of Columns and Total Data"
   ]
  },
  {
   "cell_type": "code",
   "execution_count": 4,
   "id": "510a7f90-6331-4be8-a297-41b34db157ca",
   "metadata": {
    "tags": []
   },
   "outputs": [
    {
     "name": "stdout",
     "output_type": "stream",
     "text": [
      "Dataset ini terdiri dari 13169 baris dan 3 kolom\n"
     ]
    }
   ],
   "source": [
    "print(f\"Dataset ini terdiri dari {df.shape[0]} baris dan {df.shape[1]} kolom\")"
   ]
  },
  {
   "cell_type": "markdown",
   "id": "2f417b57-1d81-4c7c-a306-c15a64260278",
   "metadata": {},
   "source": [
    "### Check Duplicated Data"
   ]
  },
  {
   "cell_type": "code",
   "execution_count": 5,
   "id": "5ad8e3ce-cf93-4cae-8cba-369eba3a3ff1",
   "metadata": {
    "tags": []
   },
   "outputs": [
    {
     "data": {
      "text/plain": [
       "146"
      ]
     },
     "execution_count": 5,
     "metadata": {},
     "output_type": "execute_result"
    }
   ],
   "source": [
    "# duplicated data\n",
    "df.duplicated('raw_text').sum()"
   ]
  },
  {
   "cell_type": "code",
   "execution_count": 6,
   "id": "85a7b25e-8be4-4d64-b386-8801aa713743",
   "metadata": {
    "tags": []
   },
   "outputs": [
    {
     "data": {
      "text/plain": [
       "13023"
      ]
     },
     "execution_count": 6,
     "metadata": {},
     "output_type": "execute_result"
    }
   ],
   "source": [
    "# unique data\n",
    "df['raw_text'].nunique()"
   ]
  },
  {
   "cell_type": "code",
   "execution_count": 7,
   "id": "258d653c-a9fe-4a0d-b0f5-34e8ed3a1560",
   "metadata": {
    "tags": []
   },
   "outputs": [],
   "source": [
    "# drop duplicated data\n",
    "df = df.drop_duplicates()"
   ]
  },
  {
   "cell_type": "code",
   "execution_count": 8,
   "id": "d29b98f1-acf5-48b4-a87f-383a300e0e70",
   "metadata": {
    "tags": []
   },
   "outputs": [
    {
     "data": {
      "text/plain": [
       "(13023, 3)"
      ]
     },
     "execution_count": 8,
     "metadata": {},
     "output_type": "execute_result"
    }
   ],
   "source": [
    "df.shape"
   ]
  },
  {
   "cell_type": "markdown",
   "id": "35aab3cb-1314-4fd0-ab70-88e6d5850785",
   "metadata": {
    "tags": []
   },
   "source": [
    "### Check Missing Values"
   ]
  },
  {
   "cell_type": "code",
   "execution_count": 9,
   "id": "1d82d825-426d-41a9-b93e-be8e3aa6ce2b",
   "metadata": {
    "tags": []
   },
   "outputs": [
    {
     "data": {
      "text/plain": [
       "raw_text               0\n",
       "clean_text             0\n",
       "jumlah_kata_abusive    0\n",
       "dtype: int64"
      ]
     },
     "execution_count": 9,
     "metadata": {},
     "output_type": "execute_result"
    }
   ],
   "source": [
    "df.isna().sum()"
   ]
  },
  {
   "cell_type": "markdown",
   "id": "1027c7e8-a6f5-41f2-a6c8-68f34c98cbe4",
   "metadata": {
    "tags": []
   },
   "source": [
    "## Jumlah Kata Dalam Teks"
   ]
  },
  {
   "cell_type": "code",
   "execution_count": 10,
   "id": "e280bdd4-67cb-4890-96ee-5c2f366d357a",
   "metadata": {
    "tags": []
   },
   "outputs": [
    {
     "name": "stderr",
     "output_type": "stream",
     "text": [
      "C:\\Users\\Irin\\AppData\\Local\\Temp\\ipykernel_11004\\2734420945.py:1: SettingWithCopyWarning: \n",
      "A value is trying to be set on a copy of a slice from a DataFrame.\n",
      "Try using .loc[row_indexer,col_indexer] = value instead\n",
      "\n",
      "See the caveats in the documentation: https://pandas.pydata.org/pandas-docs/stable/user_guide/indexing.html#returning-a-view-versus-a-copy\n",
      "  df['num_kata'] = df['clean_text'].str.split().str.len()\n"
     ]
    },
    {
     "data": {
      "text/html": [
       "<div>\n",
       "<style scoped>\n",
       "    .dataframe tbody tr th:only-of-type {\n",
       "        vertical-align: middle;\n",
       "    }\n",
       "\n",
       "    .dataframe tbody tr th {\n",
       "        vertical-align: top;\n",
       "    }\n",
       "\n",
       "    .dataframe thead th {\n",
       "        text-align: right;\n",
       "    }\n",
       "</style>\n",
       "<table border=\"1\" class=\"dataframe\">\n",
       "  <thead>\n",
       "    <tr style=\"text-align: right;\">\n",
       "      <th></th>\n",
       "      <th>raw_text</th>\n",
       "      <th>clean_text</th>\n",
       "      <th>jumlah_kata_abusive</th>\n",
       "      <th>num_kata</th>\n",
       "    </tr>\n",
       "  </thead>\n",
       "  <tbody>\n",
       "    <tr>\n",
       "      <th>0</th>\n",
       "      <td>- disaat semua cowok berusaha melacak perhatia...</td>\n",
       "      <td>di saat semua cowok berusaha melacak perhatian...</td>\n",
       "      <td>1</td>\n",
       "      <td>22</td>\n",
       "    </tr>\n",
       "    <tr>\n",
       "      <th>1</th>\n",
       "      <td>RT USER: USER siapa yang telat ngasih tau elu?...</td>\n",
       "      <td>rt siapa yang telat memberi tau kamu e*** s***...</td>\n",
       "      <td>2</td>\n",
       "      <td>20</td>\n",
       "    </tr>\n",
       "    <tr>\n",
       "      <th>2</th>\n",
       "      <td>41. Kadang aku berfikir, kenapa aku tetap perc...</td>\n",
       "      <td>41 kadang aku berpikir kenapa aku tetap percay...</td>\n",
       "      <td>0</td>\n",
       "      <td>39</td>\n",
       "    </tr>\n",
       "    <tr>\n",
       "      <th>3</th>\n",
       "      <td>USER USER AKU ITU AKU\\n\\nKU TAU MATAMU SIPIT T...</td>\n",
       "      <td>aku itu aku ku tau matamu s**** tapi dilihat d...</td>\n",
       "      <td>1</td>\n",
       "      <td>13</td>\n",
       "    </tr>\n",
       "    <tr>\n",
       "      <th>4</th>\n",
       "      <td>USER USER Kaum cebong kapir udah keliatan dong...</td>\n",
       "      <td>kaum c***** k**** sudah kelihatan dongoknya da...</td>\n",
       "      <td>2</td>\n",
       "      <td>12</td>\n",
       "    </tr>\n",
       "  </tbody>\n",
       "</table>\n",
       "</div>"
      ],
      "text/plain": [
       "                                            raw_text  \\\n",
       "0  - disaat semua cowok berusaha melacak perhatia...   \n",
       "1  RT USER: USER siapa yang telat ngasih tau elu?...   \n",
       "2  41. Kadang aku berfikir, kenapa aku tetap perc...   \n",
       "3  USER USER AKU ITU AKU\\n\\nKU TAU MATAMU SIPIT T...   \n",
       "4  USER USER Kaum cebong kapir udah keliatan dong...   \n",
       "\n",
       "                                          clean_text  jumlah_kata_abusive  \\\n",
       "0  di saat semua cowok berusaha melacak perhatian...                    1   \n",
       "1  rt siapa yang telat memberi tau kamu e*** s***...                    2   \n",
       "2  41 kadang aku berpikir kenapa aku tetap percay...                    0   \n",
       "3  aku itu aku ku tau matamu s**** tapi dilihat d...                    1   \n",
       "4  kaum c***** k**** sudah kelihatan dongoknya da...                    2   \n",
       "\n",
       "   num_kata  \n",
       "0        22  \n",
       "1        20  \n",
       "2        39  \n",
       "3        13  \n",
       "4        12  "
      ]
     },
     "execution_count": 10,
     "metadata": {},
     "output_type": "execute_result"
    }
   ],
   "source": [
    "df['num_kata'] = df['clean_text'].str.split().str.len()\n",
    "df.head()"
   ]
  },
  {
   "cell_type": "markdown",
   "id": "965e304b-5d70-4f2d-ac27-ae503629435a",
   "metadata": {
    "tags": []
   },
   "source": [
    "## Jumlah Karakter Dalam Teks"
   ]
  },
  {
   "cell_type": "code",
   "execution_count": 11,
   "id": "027bf515-58b6-495d-b299-16315e573269",
   "metadata": {
    "tags": []
   },
   "outputs": [
    {
     "name": "stderr",
     "output_type": "stream",
     "text": [
      "C:\\Users\\Irin\\AppData\\Local\\Temp\\ipykernel_11004\\3641193736.py:1: SettingWithCopyWarning: \n",
      "A value is trying to be set on a copy of a slice from a DataFrame.\n",
      "Try using .loc[row_indexer,col_indexer] = value instead\n",
      "\n",
      "See the caveats in the documentation: https://pandas.pydata.org/pandas-docs/stable/user_guide/indexing.html#returning-a-view-versus-a-copy\n",
      "  df['num_karakter'] = df['clean_text'].str.len()\n"
     ]
    },
    {
     "data": {
      "text/html": [
       "<div>\n",
       "<style scoped>\n",
       "    .dataframe tbody tr th:only-of-type {\n",
       "        vertical-align: middle;\n",
       "    }\n",
       "\n",
       "    .dataframe tbody tr th {\n",
       "        vertical-align: top;\n",
       "    }\n",
       "\n",
       "    .dataframe thead th {\n",
       "        text-align: right;\n",
       "    }\n",
       "</style>\n",
       "<table border=\"1\" class=\"dataframe\">\n",
       "  <thead>\n",
       "    <tr style=\"text-align: right;\">\n",
       "      <th></th>\n",
       "      <th>raw_text</th>\n",
       "      <th>clean_text</th>\n",
       "      <th>jumlah_kata_abusive</th>\n",
       "      <th>num_kata</th>\n",
       "      <th>num_karakter</th>\n",
       "    </tr>\n",
       "  </thead>\n",
       "  <tbody>\n",
       "    <tr>\n",
       "      <th>0</th>\n",
       "      <td>- disaat semua cowok berusaha melacak perhatia...</td>\n",
       "      <td>di saat semua cowok berusaha melacak perhatian...</td>\n",
       "      <td>1</td>\n",
       "      <td>22</td>\n",
       "      <td>133</td>\n",
       "    </tr>\n",
       "    <tr>\n",
       "      <th>1</th>\n",
       "      <td>RT USER: USER siapa yang telat ngasih tau elu?...</td>\n",
       "      <td>rt siapa yang telat memberi tau kamu e*** s***...</td>\n",
       "      <td>2</td>\n",
       "      <td>20</td>\n",
       "      <td>108</td>\n",
       "    </tr>\n",
       "    <tr>\n",
       "      <th>2</th>\n",
       "      <td>41. Kadang aku berfikir, kenapa aku tetap perc...</td>\n",
       "      <td>41 kadang aku berpikir kenapa aku tetap percay...</td>\n",
       "      <td>0</td>\n",
       "      <td>39</td>\n",
       "      <td>251</td>\n",
       "    </tr>\n",
       "    <tr>\n",
       "      <th>3</th>\n",
       "      <td>USER USER AKU ITU AKU\\n\\nKU TAU MATAMU SIPIT T...</td>\n",
       "      <td>aku itu aku ku tau matamu s**** tapi dilihat d...</td>\n",
       "      <td>1</td>\n",
       "      <td>13</td>\n",
       "      <td>62</td>\n",
       "    </tr>\n",
       "    <tr>\n",
       "      <th>4</th>\n",
       "      <td>USER USER Kaum cebong kapir udah keliatan dong...</td>\n",
       "      <td>kaum c***** k**** sudah kelihatan dongoknya da...</td>\n",
       "      <td>2</td>\n",
       "      <td>12</td>\n",
       "      <td>76</td>\n",
       "    </tr>\n",
       "  </tbody>\n",
       "</table>\n",
       "</div>"
      ],
      "text/plain": [
       "                                            raw_text  \\\n",
       "0  - disaat semua cowok berusaha melacak perhatia...   \n",
       "1  RT USER: USER siapa yang telat ngasih tau elu?...   \n",
       "2  41. Kadang aku berfikir, kenapa aku tetap perc...   \n",
       "3  USER USER AKU ITU AKU\\n\\nKU TAU MATAMU SIPIT T...   \n",
       "4  USER USER Kaum cebong kapir udah keliatan dong...   \n",
       "\n",
       "                                          clean_text  jumlah_kata_abusive  \\\n",
       "0  di saat semua cowok berusaha melacak perhatian...                    1   \n",
       "1  rt siapa yang telat memberi tau kamu e*** s***...                    2   \n",
       "2  41 kadang aku berpikir kenapa aku tetap percay...                    0   \n",
       "3  aku itu aku ku tau matamu s**** tapi dilihat d...                    1   \n",
       "4  kaum c***** k**** sudah kelihatan dongoknya da...                    2   \n",
       "\n",
       "   num_kata  num_karakter  \n",
       "0        22           133  \n",
       "1        20           108  \n",
       "2        39           251  \n",
       "3        13            62  \n",
       "4        12            76  "
      ]
     },
     "execution_count": 11,
     "metadata": {},
     "output_type": "execute_result"
    }
   ],
   "source": [
    "df['num_karakter'] = df['clean_text'].str.len()\n",
    "df.head()"
   ]
  },
  {
   "cell_type": "markdown",
   "id": "c4f84668-411f-4981-b1e1-6122d74a32f9",
   "metadata": {
    "tags": []
   },
   "source": [
    "## Analisis Kata"
   ]
  },
  {
   "cell_type": "markdown",
   "id": "09208e21-8def-42ad-9e4c-51e5e57c885f",
   "metadata": {
    "tags": []
   },
   "source": [
    "### EDA: Univariate Analysis"
   ]
  },
  {
   "cell_type": "code",
   "execution_count": 19,
   "id": "494c25ef-cb01-4a99-bf47-9957dce2b8cb",
   "metadata": {
    "tags": []
   },
   "outputs": [
    {
     "name": "stdout",
     "output_type": "stream",
     "text": [
      "Total jumlah kata dari dataset sebanyak: 225,955 kata\n"
     ]
    }
   ],
   "source": [
    "# Total jumlah karakter dari 1 data\n",
    "total_kata = df['num_kata'].sum()\n",
    "print(f\"Total jumlah kata dari dataset sebanyak: {total_kata:,} kata\")"
   ]
  },
  {
   "cell_type": "code",
   "execution_count": 13,
   "id": "912035ea-58a6-49dc-89d2-ff0e9af4cf8c",
   "metadata": {
    "tags": []
   },
   "outputs": [
    {
     "name": "stdout",
     "output_type": "stream",
     "text": [
      "Rata-rata jumlah kata dalam teks di dataset: 17.350 kata\n"
     ]
    }
   ],
   "source": [
    "# rata-rata jumlah kata dalam teks di dataset\n",
    "avg_num_kata = df['num_kata'].mean()\n",
    "print(f\"Rata-rata jumlah kata dalam teks di dataset: {avg_num_kata:.3f} kata\")"
   ]
  },
  {
   "cell_type": "code",
   "execution_count": 14,
   "id": "10576c3b-292e-4868-a179-e60280c7c852",
   "metadata": {
    "tags": []
   },
   "outputs": [
    {
     "data": {
      "text/plain": [
       "0       7\n",
       "1      39\n",
       "2     239\n",
       "3     393\n",
       "4     479\n",
       "5     499\n",
       "6     535\n",
       "7     553\n",
       "8     506\n",
       "9     510\n",
       "10    539\n",
       "11    559\n",
       "12    533\n",
       "13    442\n",
       "14    457\n",
       "15    462\n",
       "16    423\n",
       "17    441\n",
       "18    404\n",
       "19    405\n",
       "20    394\n",
       "21    337\n",
       "22    323\n",
       "23    256\n",
       "24    240\n",
       "25    223\n",
       "26    188\n",
       "27    186\n",
       "28    138\n",
       "29    161\n",
       "30    148\n",
       "31    163\n",
       "32    154\n",
       "33    145\n",
       "34    150\n",
       "35    177\n",
       "36    146\n",
       "37    129\n",
       "38    151\n",
       "39    136\n",
       "40    104\n",
       "41     99\n",
       "42    103\n",
       "43     71\n",
       "44     64\n",
       "45     48\n",
       "46     29\n",
       "47     31\n",
       "48     39\n",
       "49     17\n",
       "50     12\n",
       "51     11\n",
       "52      8\n",
       "53      5\n",
       "54      6\n",
       "55      1\n",
       "56      1\n",
       "57      2\n",
       "61      1\n",
       "65      1\n",
       "Name: num_kata, dtype: int64"
      ]
     },
     "execution_count": 14,
     "metadata": {},
     "output_type": "execute_result"
    }
   ],
   "source": [
    "df['num_kata'].value_counts().sort_index()"
   ]
  },
  {
   "cell_type": "code",
   "execution_count": 15,
   "id": "5531cf04-c77e-4dbc-946a-3a17925fd049",
   "metadata": {
    "tags": []
   },
   "outputs": [
    {
     "data": {
      "image/png": "[encoded data removed]",
      "text/plain": [
       "<Figure size 640x480 with 1 Axes>"
      ]
     },
     "metadata": {},
     "output_type": "display_data"
    }
   ],
   "source": [
    "# Memplot histogram jumlah kata pada teks\n",
    "sns.histplot(data=df, x='num_kata', binwidth=5, kde=True)\n",
    "plt.vlines(df['num_kata'].mean(), 0, 3000, label='mean', linestyle='dashed', color='red')\n",
    "plt.vlines(df['num_kata'].mode(), 0, 3000, label='mode', linestyle='dashed', color='green')\n",
    "plt.vlines(df['num_kata'].median(), 0, 3000, label='median', linestyle='dashed', color='blue')\n",
    "plt.title(\"Histogram and Central Tendency of num_kata Within Dataset\")\n",
    "plt.legend()\n",
    "plt.show()"
   ]
  },
  {
   "cell_type": "markdown",
   "id": "be063dd4-8396-44a7-8a6d-29bc74c0f4af",
   "metadata": {},
   "source": [
    "### Mengidentifikasi outlier pada data"
   ]
  },
  {
   "cell_type": "code",
   "execution_count": 16,
   "id": "2967e71b-b9c4-4983-ba09-a065469aa2c5",
   "metadata": {
    "tags": []
   },
   "outputs": [
    {
     "name": "stdout",
     "output_type": "stream",
     "text": [
      "batas bawah 'num_kata': -13.5\n",
      "nilai minimum: 0\n",
      "Tidak ada outlier dari sisi batas bawah\n",
      "batas atas 'num_kata': 46.5\n",
      "nilai maksimum: 65\n",
      "Ada outlier dari sisi batas atas\n"
     ]
    }
   ],
   "source": [
    "# Nilai minimum\n",
    "p0 = df['num_kata'].min()\n",
    "# Nilai maksimum\n",
    "p100 = df['num_kata'].max()\n",
    "# Quartile 1\n",
    "q1 = df['num_kata'].quantile(0.25)\n",
    "# Quartile 2\n",
    "q2 = df['num_kata'].quantile(0.5)\n",
    "# Quartile 3\n",
    "q3 = df['num_kata'].quantile(0.75)\n",
    "# Menghitung IQR\n",
    "iqr = q3 - q1\n",
    "# Batas bawah\n",
    "lower_limit = q1 - 1.5*iqr\n",
    "# Batas atas\n",
    "upper_limit = q3 + 1.5*iqr\n",
    "\n",
    "print(\"batas bawah 'num_kata':\", lower_limit)\n",
    "print(\"nilai minimum:\", p0)\n",
    "if lower_limit < p0:\n",
    "    print(\"Tidak ada outlier dari sisi batas bawah\")\n",
    "else:\n",
    "    print(\"Ada outlier dari sisi batas bawah\")\n",
    "    \n",
    "print(\"batas atas 'num_kata':\", upper_limit)\n",
    "print(\"nilai maksimum:\", p100)\n",
    "if lower_limit > p100:\n",
    "    print(\"Tidak ada outlier dari sisi batas bawah\")\n",
    "else:\n",
    "    print(\"Ada outlier dari sisi batas atas\")"
   ]
  },
  {
   "cell_type": "markdown",
   "id": "797f1641-297b-4588-9ec9-79fb9ca24520",
   "metadata": {
    "tags": []
   },
   "source": [
    "### Mencari common words"
   ]
  },
  {
   "cell_type": "code",
   "execution_count": 17,
   "id": "34f7ab0f-f296-4d86-961a-dadefe18b345",
   "metadata": {
    "tags": []
   },
   "outputs": [
    {
     "name": "stderr",
     "output_type": "stream",
     "text": [
      "C:\\Users\\Irin\\AppData\\Local\\Temp\\ipykernel_11004\\3854498708.py:2: SettingWithCopyWarning: \n",
      "A value is trying to be set on a copy of a slice from a DataFrame.\n",
      "Try using .loc[row_indexer,col_indexer] = value instead\n",
      "\n",
      "See the caveats in the documentation: https://pandas.pydata.org/pandas-docs/stable/user_guide/indexing.html#returning-a-view-versus-a-copy\n",
      "  df['temp_list'] = df['clean_text'].apply(lambda x:str(x).split())\n"
     ]
    },
    {
     "data": {
      "text/html": [
       "<style type=\"text/css\">\n",
       "#T_3a9a2_row0_col1 {\n",
       "  background-color: #08306b;\n",
       "  color: #f1f1f1;\n",
       "}\n",
       "#T_3a9a2_row1_col1 {\n",
       "  background-color: #4292c6;\n",
       "  color: #f1f1f1;\n",
       "}\n",
       "#T_3a9a2_row2_col1 {\n",
       "  background-color: #60a7d2;\n",
       "  color: #f1f1f1;\n",
       "}\n",
       "#T_3a9a2_row3_col1 {\n",
       "  background-color: #63a8d3;\n",
       "  color: #f1f1f1;\n",
       "}\n",
       "#T_3a9a2_row4_col1 {\n",
       "  background-color: #c4daee;\n",
       "  color: #000000;\n",
       "}\n",
       "#T_3a9a2_row5_col1 {\n",
       "  background-color: #d5e5f4;\n",
       "  color: #000000;\n",
       "}\n",
       "#T_3a9a2_row6_col1 {\n",
       "  background-color: #dceaf6;\n",
       "  color: #000000;\n",
       "}\n",
       "#T_3a9a2_row7_col1 {\n",
       "  background-color: #dfecf7;\n",
       "  color: #000000;\n",
       "}\n",
       "#T_3a9a2_row8_col1 {\n",
       "  background-color: #e6f0f9;\n",
       "  color: #000000;\n",
       "}\n",
       "#T_3a9a2_row9_col1, #T_3a9a2_row10_col1 {\n",
       "  background-color: #e9f2fa;\n",
       "  color: #000000;\n",
       "}\n",
       "#T_3a9a2_row11_col1 {\n",
       "  background-color: #ebf3fb;\n",
       "  color: #000000;\n",
       "}\n",
       "#T_3a9a2_row12_col1 {\n",
       "  background-color: #edf4fc;\n",
       "  color: #000000;\n",
       "}\n",
       "#T_3a9a2_row13_col1 {\n",
       "  background-color: #f2f7fd;\n",
       "  color: #000000;\n",
       "}\n",
       "#T_3a9a2_row14_col1 {\n",
       "  background-color: #f2f8fd;\n",
       "  color: #000000;\n",
       "}\n",
       "#T_3a9a2_row15_col1, #T_3a9a2_row16_col1 {\n",
       "  background-color: #f5fafe;\n",
       "  color: #000000;\n",
       "}\n",
       "#T_3a9a2_row17_col1 {\n",
       "  background-color: #f6faff;\n",
       "  color: #000000;\n",
       "}\n",
       "#T_3a9a2_row18_col1, #T_3a9a2_row19_col1 {\n",
       "  background-color: #f7fbff;\n",
       "  color: #000000;\n",
       "}\n",
       "</style>\n",
       "<table id=\"T_3a9a2\">\n",
       "  <thead>\n",
       "    <tr>\n",
       "      <th class=\"blank level0\" >&nbsp;</th>\n",
       "      <th id=\"T_3a9a2_level0_col0\" class=\"col_heading level0 col0\" >Common_words</th>\n",
       "      <th id=\"T_3a9a2_level0_col1\" class=\"col_heading level0 col1\" >count</th>\n",
       "    </tr>\n",
       "  </thead>\n",
       "  <tbody>\n",
       "    <tr>\n",
       "      <th id=\"T_3a9a2_level0_row0\" class=\"row_heading level0 row0\" >0</th>\n",
       "      <td id=\"T_3a9a2_row0_col0\" class=\"data row0 col0\" >yang</td>\n",
       "      <td id=\"T_3a9a2_row0_col1\" class=\"data row0 col1\" >4997</td>\n",
       "    </tr>\n",
       "    <tr>\n",
       "      <th id=\"T_3a9a2_level0_row1\" class=\"row_heading level0 row1\" >1</th>\n",
       "      <td id=\"T_3a9a2_row1_col0\" class=\"data row1 col0\" >dan</td>\n",
       "      <td id=\"T_3a9a2_row1_col1\" class=\"data row1 col1\" >3549</td>\n",
       "    </tr>\n",
       "    <tr>\n",
       "      <th id=\"T_3a9a2_level0_row2\" class=\"row_heading level0 row2\" >2</th>\n",
       "      <td id=\"T_3a9a2_row2_col0\" class=\"data row2 col0\" >tidak</td>\n",
       "      <td id=\"T_3a9a2_row2_col1\" class=\"data row2 col1\" >3197</td>\n",
       "    </tr>\n",
       "    <tr>\n",
       "      <th id=\"T_3a9a2_level0_row3\" class=\"row_heading level0 row3\" >3</th>\n",
       "      <td id=\"T_3a9a2_row3_col0\" class=\"data row3 col0\" >di</td>\n",
       "      <td id=\"T_3a9a2_row3_col1\" class=\"data row3 col1\" >3166</td>\n",
       "    </tr>\n",
       "    <tr>\n",
       "      <th id=\"T_3a9a2_level0_row4\" class=\"row_heading level0 row4\" >4</th>\n",
       "      <td id=\"T_3a9a2_row4_col0\" class=\"data row4 col0\" >itu</td>\n",
       "      <td id=\"T_3a9a2_row4_col1\" class=\"data row4 col1\" >2136</td>\n",
       "    </tr>\n",
       "    <tr>\n",
       "      <th id=\"T_3a9a2_level0_row5\" class=\"row_heading level0 row5\" >5</th>\n",
       "      <td id=\"T_3a9a2_row5_col0\" class=\"data row5 col0\" >kamu</td>\n",
       "      <td id=\"T_3a9a2_row5_col1\" class=\"data row5 col1\" >1812</td>\n",
       "    </tr>\n",
       "    <tr>\n",
       "      <th id=\"T_3a9a2_level0_row6\" class=\"row_heading level0 row6\" >6</th>\n",
       "      <td id=\"T_3a9a2_row6_col0\" class=\"data row6 col0\" >indonesia</td>\n",
       "      <td id=\"T_3a9a2_row6_col1\" class=\"data row6 col1\" >1671</td>\n",
       "    </tr>\n",
       "    <tr>\n",
       "      <th id=\"T_3a9a2_level0_row7\" class=\"row_heading level0 row7\" >7</th>\n",
       "      <td id=\"T_3a9a2_row7_col0\" class=\"data row7 col0\" >ini</td>\n",
       "      <td id=\"T_3a9a2_row7_col1\" class=\"data row7 col1\" >1610</td>\n",
       "    </tr>\n",
       "    <tr>\n",
       "      <th id=\"T_3a9a2_level0_row8\" class=\"row_heading level0 row8\" >8</th>\n",
       "      <td id=\"T_3a9a2_row8_col0\" class=\"data row8 col0\" >presiden</td>\n",
       "      <td id=\"T_3a9a2_row8_col1\" class=\"data row8 col1\" >1490</td>\n",
       "    </tr>\n",
       "    <tr>\n",
       "      <th id=\"T_3a9a2_level0_row9\" class=\"row_heading level0 row9\" >9</th>\n",
       "      <td id=\"T_3a9a2_row9_col0\" class=\"data row9 col0\" >ada</td>\n",
       "      <td id=\"T_3a9a2_row9_col1\" class=\"data row9 col1\" >1431</td>\n",
       "    </tr>\n",
       "    <tr>\n",
       "      <th id=\"T_3a9a2_level0_row10\" class=\"row_heading level0 row10\" >10</th>\n",
       "      <td id=\"T_3a9a2_row10_col0\" class=\"data row10 col0\" >orang</td>\n",
       "      <td id=\"T_3a9a2_row10_col1\" class=\"data row10 col1\" >1425</td>\n",
       "    </tr>\n",
       "    <tr>\n",
       "      <th id=\"T_3a9a2_level0_row11\" class=\"row_heading level0 row11\" >11</th>\n",
       "      <td id=\"T_3a9a2_row11_col0\" class=\"data row11 col0\" >kalau</td>\n",
       "      <td id=\"T_3a9a2_row11_col1\" class=\"data row11 col1\" >1378</td>\n",
       "    </tr>\n",
       "    <tr>\n",
       "      <th id=\"T_3a9a2_level0_row12\" class=\"row_heading level0 row12\" >12</th>\n",
       "      <td id=\"T_3a9a2_row12_col0\" class=\"data row12 col0\" >sudah</td>\n",
       "      <td id=\"T_3a9a2_row12_col1\" class=\"data row12 col1\" >1349</td>\n",
       "    </tr>\n",
       "    <tr>\n",
       "      <th id=\"T_3a9a2_level0_row13\" class=\"row_heading level0 row13\" >13</th>\n",
       "      <td id=\"T_3a9a2_row13_col0\" class=\"data row13 col0\" >a****</td>\n",
       "      <td id=\"T_3a9a2_row13_col1\" class=\"data row13 col1\" >1262</td>\n",
       "    </tr>\n",
       "    <tr>\n",
       "      <th id=\"T_3a9a2_level0_row14\" class=\"row_heading level0 row14\" >14</th>\n",
       "      <td id=\"T_3a9a2_row14_col0\" class=\"data row14 col0\" >saja</td>\n",
       "      <td id=\"T_3a9a2_row14_col1\" class=\"data row14 col1\" >1247</td>\n",
       "    </tr>\n",
       "    <tr>\n",
       "      <th id=\"T_3a9a2_level0_row15\" class=\"row_heading level0 row15\" >15</th>\n",
       "      <td id=\"T_3a9a2_row15_col0\" class=\"data row15 col0\" >dengan</td>\n",
       "      <td id=\"T_3a9a2_row15_col1\" class=\"data row15 col1\" >1185</td>\n",
       "    </tr>\n",
       "    <tr>\n",
       "      <th id=\"T_3a9a2_level0_row16\" class=\"row_heading level0 row16\" >16</th>\n",
       "      <td id=\"T_3a9a2_row16_col0\" class=\"data row16 col0\" >gue</td>\n",
       "      <td id=\"T_3a9a2_row16_col1\" class=\"data row16 col1\" >1182</td>\n",
       "    </tr>\n",
       "    <tr>\n",
       "      <th id=\"T_3a9a2_level0_row17\" class=\"row_heading level0 row17\" >17</th>\n",
       "      <td id=\"T_3a9a2_row17_col0\" class=\"data row17 col0\" >ya</td>\n",
       "      <td id=\"T_3a9a2_row17_col1\" class=\"data row17 col1\" >1174</td>\n",
       "    </tr>\n",
       "    <tr>\n",
       "      <th id=\"T_3a9a2_level0_row18\" class=\"row_heading level0 row18\" >18</th>\n",
       "      <td id=\"T_3a9a2_row18_col0\" class=\"data row18 col0\" >sama</td>\n",
       "      <td id=\"T_3a9a2_row18_col1\" class=\"data row18 col1\" >1159</td>\n",
       "    </tr>\n",
       "    <tr>\n",
       "      <th id=\"T_3a9a2_level0_row19\" class=\"row_heading level0 row19\" >19</th>\n",
       "      <td id=\"T_3a9a2_row19_col0\" class=\"data row19 col0\" >jokowi</td>\n",
       "      <td id=\"T_3a9a2_row19_col1\" class=\"data row19 col1\" >1149</td>\n",
       "    </tr>\n",
       "  </tbody>\n",
       "</table>\n"
      ],
      "text/plain": [
       "<pandas.io.formats.style.Styler at 0x140cfdaf880>"
      ]
     },
     "execution_count": 17,
     "metadata": {},
     "output_type": "execute_result"
    }
   ],
   "source": [
    "from collections import Counter\n",
    "df['temp_list'] = df['clean_text'].apply(lambda x:str(x).split())\n",
    "top = Counter([item for sublist in df['temp_list'] for item in sublist])\n",
    "temp = pd.DataFrame(top.most_common(20))\n",
    "temp.columns = ['Common_words','count']\n",
    "temp.style.background_gradient(cmap='Blues')"
   ]
  },
  {
   "cell_type": "markdown",
   "id": "b8bf4296-245c-42f0-8ff5-e0b5d1158ba0",
   "metadata": {},
   "source": [
    "## Analisis Karakter"
   ]
  },
  {
   "cell_type": "code",
   "execution_count": 22,
   "id": "849e9836-9a3c-43c0-81ba-984573de6188",
   "metadata": {
    "tags": []
   },
   "outputs": [
    {
     "name": "stdout",
     "output_type": "stream",
     "text": [
      "Total jumlah karakter dari dataset sebanyak: 1,437,426 karakter\n"
     ]
    }
   ],
   "source": [
    "# Total jumlah karakter dari 1 data\n",
    "total_karakter = df['num_karakter'].sum()\n",
    "print(f\"Total jumlah karakter dari dataset sebanyak: {total_karakter:,} karakter\")"
   ]
  },
  {
   "cell_type": "code",
   "execution_count": 23,
   "id": "add0026a-23f7-450c-9f68-013dddbfaf66",
   "metadata": {
    "tags": []
   },
   "outputs": [
    {
     "name": "stdout",
     "output_type": "stream",
     "text": [
      "Rata-rata jumlah karakter dalam teks di dataset: 110.376 karakter\n"
     ]
    }
   ],
   "source": [
    "# rata-rata jumlah kata dalam teks di dataset\n",
    "avg_num_karakter = df['num_karakter'].mean()\n",
    "print(f\"Rata-rata jumlah karakter dalam teks di dataset: {avg_num_karakter:.3f} karakter\")"
   ]
  },
  {
   "cell_type": "markdown",
   "id": "8c0cab28-3a14-4862-be99-b9ee3ed1807b",
   "metadata": {},
   "source": [
    "### EDA: Bivariate Analysis\n",
    "### Mencari korelasi antara jumlah karakter dan jumlah kata"
   ]
  },
  {
   "cell_type": "code",
   "execution_count": 25,
   "id": "8e8f6e0b-f26b-43ab-9936-3c64444e4020",
   "metadata": {
    "tags": []
   },
   "outputs": [
    {
     "data": {
      "text/plain": [
       "Text(0.5, 1.0, 'Korelasi Jumlah Karakter Dengan Jumlah Kata')"
      ]
     },
     "execution_count": 25,
     "metadata": {},
     "output_type": "execute_result"
    },
    {
     "data": {
      "image/png": "[encoded data removed]",
      "text/plain": [
       "<Figure size 640x480 with 1 Axes>"
      ]
     },
     "metadata": {},
     "output_type": "display_data"
    }
   ],
   "source": [
    "df.plot(x='num_kata', y='num_karakter', kind = 'scatter')\n",
    "plt.title(\"Korelasi Jumlah Karakter Dengan Jumlah Kata\")"
   ]
  },
  {
   "cell_type": "markdown",
   "id": "53821a12-41d0-485b-a3f1-f0e670d1e191",
   "metadata": {
    "tags": []
   },
   "source": [
    "## Analisis Kata Abusive Dalam Teks"
   ]
  },
  {
   "cell_type": "markdown",
   "id": "383f3c41-4a8a-4e5b-a46c-81b7fc46ab27",
   "metadata": {},
   "source": [
    "### Jumlah kata abusive dalam teks"
   ]
  },
  {
   "cell_type": "code",
   "execution_count": 41,
   "id": "d73f02ce-1e64-4223-94ad-599661208db6",
   "metadata": {
    "tags": []
   },
   "outputs": [
    {
     "name": "stdout",
     "output_type": "stream",
     "text": [
      "Total jumlah kata abusive dari dataset sebanyak: 8,769 kata\n"
     ]
    }
   ],
   "source": [
    "# Total jumlah kata abusive dari 1 data\n",
    "total_kata_abusive = df['jumlah_kata_abusive'].sum()\n",
    "print(f\"Total jumlah kata abusive dari dataset sebanyak: {total_kata_abusive:,} kata\")"
   ]
  },
  {
   "cell_type": "code",
   "execution_count": 42,
   "id": "c4d663b7-f2cf-4b7b-a56c-d4f5b6f8b77e",
   "metadata": {
    "tags": []
   },
   "outputs": [
    {
     "name": "stdout",
     "output_type": "stream",
     "text": [
      "Rata-rata jumlah kata abusive dalam teks di dataset: 0.673 kata\n"
     ]
    }
   ],
   "source": [
    "# rata-rata jumlah kata dalam teks di dataset\n",
    "avg_num_abusive = df['jumlah_kata_abusive'].mean()\n",
    "print(f\"Rata-rata jumlah kata abusive dalam teks di dataset: {avg_num_abusive:.3f} kata\")"
   ]
  },
  {
   "cell_type": "code",
   "execution_count": 50,
   "id": "814edcf3-6aec-40fa-b244-c963c0cf2cbf",
   "metadata": {
    "tags": []
   },
   "outputs": [
    {
     "data": {
      "text/plain": [
       "0     6431\n",
       "1     5047\n",
       "2     1118\n",
       "3      299\n",
       "4       87\n",
       "5       23\n",
       "6       11\n",
       "7        3\n",
       "8        3\n",
       "15       1\n",
       "Name: jumlah_kata_abusive, dtype: int64"
      ]
     },
     "execution_count": 50,
     "metadata": {},
     "output_type": "execute_result"
    }
   ],
   "source": [
    "df['jumlah_kata_abusive'].value_counts()"
   ]
  },
  {
   "cell_type": "code",
   "execution_count": 55,
   "id": "e71a05d0-d0fe-443b-9278-bd2ee4a52819",
   "metadata": {
    "tags": []
   },
   "outputs": [
    {
     "data": {
      "text/plain": [
       "Text(0, 0.5, 'Count')"
      ]
     },
     "execution_count": 55,
     "metadata": {},
     "output_type": "execute_result"
    },
    {
     "data": {
      "image/png": "[encoded data removed]",
      "text/plain": [
       "<Figure size 640x480 with 1 Axes>"
      ]
     },
     "metadata": {},
     "output_type": "display_data"
    }
   ],
   "source": [
    "df['jumlah_kata_abusive'].hist()\n",
    "plt.title(\"Histogram of jumlah_kata_abusive Within Dataset\")\n",
    "plt.xlabel('Number of Abusive Words Within Text')\n",
    "plt.ylabel('Count')"
   ]
  },
  {
   "cell_type": "markdown",
   "id": "2ecacbff-8c58-4a5b-a76b-de6e38b12948",
   "metadata": {
    "tags": []
   },
   "source": [
    "### Analisis Kata Abusive yang Paling Sering Muncul"
   ]
  },
  {
   "cell_type": "code",
   "execution_count": 27,
   "id": "17affa21-3048-4504-b78a-2142a76301b5",
   "metadata": {
    "tags": []
   },
   "outputs": [
    {
     "data": {
      "text/html": [
       "<div>\n",
       "<style scoped>\n",
       "    .dataframe tbody tr th:only-of-type {\n",
       "        vertical-align: middle;\n",
       "    }\n",
       "\n",
       "    .dataframe tbody tr th {\n",
       "        vertical-align: top;\n",
       "    }\n",
       "\n",
       "    .dataframe thead th {\n",
       "        text-align: right;\n",
       "    }\n",
       "</style>\n",
       "<table border=\"1\" class=\"dataframe\">\n",
       "  <thead>\n",
       "    <tr style=\"text-align: right;\">\n",
       "      <th></th>\n",
       "      <th>abusive_occurence</th>\n",
       "    </tr>\n",
       "  </thead>\n",
       "  <tbody>\n",
       "    <tr>\n",
       "      <th>0</th>\n",
       "      <td>bego</td>\n",
       "    </tr>\n",
       "    <tr>\n",
       "      <th>1</th>\n",
       "      <td>edan</td>\n",
       "    </tr>\n",
       "    <tr>\n",
       "      <th>2</th>\n",
       "      <td>sarap</td>\n",
       "    </tr>\n",
       "    <tr>\n",
       "      <th>3</th>\n",
       "      <td>sipit</td>\n",
       "    </tr>\n",
       "    <tr>\n",
       "      <th>4</th>\n",
       "      <td>cebong</td>\n",
       "    </tr>\n",
       "    <tr>\n",
       "      <th>...</th>\n",
       "      <td>...</td>\n",
       "    </tr>\n",
       "    <tr>\n",
       "      <th>8853</th>\n",
       "      <td>bodoh</td>\n",
       "    </tr>\n",
       "    <tr>\n",
       "      <th>8854</th>\n",
       "      <td>congor</td>\n",
       "    </tr>\n",
       "    <tr>\n",
       "      <th>8855</th>\n",
       "      <td>kunyuk</td>\n",
       "    </tr>\n",
       "    <tr>\n",
       "      <th>8856</th>\n",
       "      <td>bisu</td>\n",
       "    </tr>\n",
       "    <tr>\n",
       "      <th>8857</th>\n",
       "      <td>onta</td>\n",
       "    </tr>\n",
       "  </tbody>\n",
       "</table>\n",
       "<p>8858 rows × 1 columns</p>\n",
       "</div>"
      ],
      "text/plain": [
       "     abusive_occurence\n",
       "0                 bego\n",
       "1                 edan\n",
       "2                sarap\n",
       "3                sipit\n",
       "4               cebong\n",
       "...                ...\n",
       "8853             bodoh\n",
       "8854            congor\n",
       "8855            kunyuk\n",
       "8856              bisu\n",
       "8857              onta\n",
       "\n",
       "[8858 rows x 1 columns]"
      ]
     },
     "execution_count": 27,
     "metadata": {},
     "output_type": "execute_result"
    }
   ],
   "source": [
    "# read cleansing result database\n",
    "df_abusive = pd.read_sql(\"SELECT * FROM abusive_occurence\", connection)\n",
    "df_abusive"
   ]
  },
  {
   "cell_type": "code",
   "execution_count": 38,
   "id": "eafa88c4-5068-466e-a40c-0d549f4639a4",
   "metadata": {
    "tags": []
   },
   "outputs": [
    {
     "data": {
      "text/html": [
       "<style type=\"text/css\">\n",
       "#T_4ca58_row0_col1 {\n",
       "  background-color: #08306b;\n",
       "  color: #f1f1f1;\n",
       "}\n",
       "#T_4ca58_row1_col1 {\n",
       "  background-color: #1e6db2;\n",
       "  color: #f1f1f1;\n",
       "}\n",
       "#T_4ca58_row2_col1, #T_4ca58_row3_col1 {\n",
       "  background-color: #519ccc;\n",
       "  color: #f1f1f1;\n",
       "}\n",
       "#T_4ca58_row4_col1 {\n",
       "  background-color: #85bcdc;\n",
       "  color: #000000;\n",
       "}\n",
       "#T_4ca58_row5_col1 {\n",
       "  background-color: #aacfe5;\n",
       "  color: #000000;\n",
       "}\n",
       "#T_4ca58_row6_col1 {\n",
       "  background-color: #c7dbef;\n",
       "  color: #000000;\n",
       "}\n",
       "#T_4ca58_row7_col1 {\n",
       "  background-color: #d1e2f3;\n",
       "  color: #000000;\n",
       "}\n",
       "#T_4ca58_row8_col1 {\n",
       "  background-color: #d8e7f5;\n",
       "  color: #000000;\n",
       "}\n",
       "#T_4ca58_row9_col1 {\n",
       "  background-color: #e1edf8;\n",
       "  color: #000000;\n",
       "}\n",
       "#T_4ca58_row10_col1 {\n",
       "  background-color: #e5eff9;\n",
       "  color: #000000;\n",
       "}\n",
       "#T_4ca58_row11_col1 {\n",
       "  background-color: #e7f0fa;\n",
       "  color: #000000;\n",
       "}\n",
       "#T_4ca58_row12_col1 {\n",
       "  background-color: #edf4fc;\n",
       "  color: #000000;\n",
       "}\n",
       "#T_4ca58_row13_col1 {\n",
       "  background-color: #eef5fc;\n",
       "  color: #000000;\n",
       "}\n",
       "#T_4ca58_row14_col1, #T_4ca58_row15_col1 {\n",
       "  background-color: #f2f7fd;\n",
       "  color: #000000;\n",
       "}\n",
       "#T_4ca58_row16_col1 {\n",
       "  background-color: #f5f9fe;\n",
       "  color: #000000;\n",
       "}\n",
       "#T_4ca58_row17_col1, #T_4ca58_row18_col1 {\n",
       "  background-color: #f5fafe;\n",
       "  color: #000000;\n",
       "}\n",
       "#T_4ca58_row19_col1 {\n",
       "  background-color: #f7fbff;\n",
       "  color: #000000;\n",
       "}\n",
       "</style>\n",
       "<table id=\"T_4ca58\">\n",
       "  <thead>\n",
       "    <tr>\n",
       "      <th class=\"blank level0\" >&nbsp;</th>\n",
       "      <th id=\"T_4ca58_level0_col0\" class=\"col_heading level0 col0\" >Common_words</th>\n",
       "      <th id=\"T_4ca58_level0_col1\" class=\"col_heading level0 col1\" >count</th>\n",
       "    </tr>\n",
       "  </thead>\n",
       "  <tbody>\n",
       "    <tr>\n",
       "      <th id=\"T_4ca58_level0_row0\" class=\"row_heading level0 row0\" >0</th>\n",
       "      <td id=\"T_4ca58_row0_col0\" class=\"data row0 col0\" >cebong</td>\n",
       "      <td id=\"T_4ca58_row0_col1\" class=\"data row0 col1\" >518</td>\n",
       "    </tr>\n",
       "    <tr>\n",
       "      <th id=\"T_4ca58_level0_row1\" class=\"row_heading level0 row1\" >1</th>\n",
       "      <td id=\"T_4ca58_row1_col0\" class=\"data row1 col0\" >asing</td>\n",
       "      <td id=\"T_4ca58_row1_col1\" class=\"data row1 col1\" >427</td>\n",
       "    </tr>\n",
       "    <tr>\n",
       "      <th id=\"T_4ca58_level0_row2\" class=\"row_heading level0 row2\" >2</th>\n",
       "      <td id=\"T_4ca58_row2_col0\" class=\"data row2 col0\" >komunis</td>\n",
       "      <td id=\"T_4ca58_row2_col1\" class=\"data row2 col1\" >357</td>\n",
       "    </tr>\n",
       "    <tr>\n",
       "      <th id=\"T_4ca58_level0_row3\" class=\"row_heading level0 row3\" >3</th>\n",
       "      <td id=\"T_4ca58_row3_col0\" class=\"data row3 col0\" >rezim</td>\n",
       "      <td id=\"T_4ca58_row3_col1\" class=\"data row3 col1\" >357</td>\n",
       "    </tr>\n",
       "    <tr>\n",
       "      <th id=\"T_4ca58_level0_row4\" class=\"row_heading level0 row4\" >4</th>\n",
       "      <td id=\"T_4ca58_row4_col0\" class=\"data row4 col0\" >kafir</td>\n",
       "      <td id=\"T_4ca58_row4_col1\" class=\"data row4 col1\" >302</td>\n",
       "    </tr>\n",
       "    <tr>\n",
       "      <th id=\"T_4ca58_level0_row5\" class=\"row_heading level0 row5\" >5</th>\n",
       "      <td id=\"T_4ca58_row5_col0\" class=\"data row5 col0\" >antek</td>\n",
       "      <td id=\"T_4ca58_row5_col1\" class=\"data row5 col1\" >264</td>\n",
       "    </tr>\n",
       "    <tr>\n",
       "      <th id=\"T_4ca58_level0_row6\" class=\"row_heading level0 row6\" >6</th>\n",
       "      <td id=\"T_4ca58_row6_col0\" class=\"data row6 col0\" >onta</td>\n",
       "      <td id=\"T_4ca58_row6_col1\" class=\"data row6 col1\" >230</td>\n",
       "    </tr>\n",
       "    <tr>\n",
       "      <th id=\"T_4ca58_level0_row7\" class=\"row_heading level0 row7\" >7</th>\n",
       "      <td id=\"T_4ca58_row7_col0\" class=\"data row7 col0\" >babi</td>\n",
       "      <td id=\"T_4ca58_row7_col1\" class=\"data row7 col1\" >209</td>\n",
       "    </tr>\n",
       "    <tr>\n",
       "      <th id=\"T_4ca58_level0_row8\" class=\"row_heading level0 row8\" >8</th>\n",
       "      <td id=\"T_4ca58_row8_col0\" class=\"data row8 col0\" >kampret</td>\n",
       "      <td id=\"T_4ca58_row8_col1\" class=\"data row8 col1\" >195</td>\n",
       "    </tr>\n",
       "    <tr>\n",
       "      <th id=\"T_4ca58_level0_row9\" class=\"row_heading level0 row9\" >9</th>\n",
       "      <td id=\"T_4ca58_row9_col0\" class=\"data row9 col0\" >sipit</td>\n",
       "      <td id=\"T_4ca58_row9_col1\" class=\"data row9 col1\" >177</td>\n",
       "    </tr>\n",
       "    <tr>\n",
       "      <th id=\"T_4ca58_level0_row10\" class=\"row_heading level0 row10\" >10</th>\n",
       "      <td id=\"T_4ca58_row10_col0\" class=\"data row10 col0\" >dungu</td>\n",
       "      <td id=\"T_4ca58_row10_col1\" class=\"data row10 col1\" >170</td>\n",
       "    </tr>\n",
       "    <tr>\n",
       "      <th id=\"T_4ca58_level0_row11\" class=\"row_heading level0 row11\" >11</th>\n",
       "      <td id=\"T_4ca58_row11_col0\" class=\"data row11 col0\" >bani</td>\n",
       "      <td id=\"T_4ca58_row11_col1\" class=\"data row11 col1\" >167</td>\n",
       "    </tr>\n",
       "    <tr>\n",
       "      <th id=\"T_4ca58_level0_row12\" class=\"row_heading level0 row12\" >12</th>\n",
       "      <td id=\"T_4ca58_row12_col0\" class=\"data row12 col0\" >tai</td>\n",
       "      <td id=\"T_4ca58_row12_col1\" class=\"data row12 col1\" >155</td>\n",
       "    </tr>\n",
       "    <tr>\n",
       "      <th id=\"T_4ca58_level0_row13\" class=\"row_heading level0 row13\" >13</th>\n",
       "      <td id=\"T_4ca58_row13_col0\" class=\"data row13 col0\" >monyet</td>\n",
       "      <td id=\"T_4ca58_row13_col1\" class=\"data row13 col1\" >154</td>\n",
       "    </tr>\n",
       "    <tr>\n",
       "      <th id=\"T_4ca58_level0_row14\" class=\"row_heading level0 row14\" >14</th>\n",
       "      <td id=\"T_4ca58_row14_col0\" class=\"data row14 col0\" >tolol</td>\n",
       "      <td id=\"T_4ca58_row14_col1\" class=\"data row14 col1\" >146</td>\n",
       "    </tr>\n",
       "    <tr>\n",
       "      <th id=\"T_4ca58_level0_row15\" class=\"row_heading level0 row15\" >15</th>\n",
       "      <td id=\"T_4ca58_row15_col0\" class=\"data row15 col0\" >goblok</td>\n",
       "      <td id=\"T_4ca58_row15_col1\" class=\"data row15 col1\" >146</td>\n",
       "    </tr>\n",
       "    <tr>\n",
       "      <th id=\"T_4ca58_level0_row16\" class=\"row_heading level0 row16\" >16</th>\n",
       "      <td id=\"T_4ca58_row16_col0\" class=\"data row16 col0\" >anjing</td>\n",
       "      <td id=\"T_4ca58_row16_col1\" class=\"data row16 col1\" >140</td>\n",
       "    </tr>\n",
       "    <tr>\n",
       "      <th id=\"T_4ca58_level0_row17\" class=\"row_heading level0 row17\" >17</th>\n",
       "      <td id=\"T_4ca58_row17_col0\" class=\"data row17 col0\" >bajingan</td>\n",
       "      <td id=\"T_4ca58_row17_col1\" class=\"data row17 col1\" >139</td>\n",
       "    </tr>\n",
       "    <tr>\n",
       "      <th id=\"T_4ca58_level0_row18\" class=\"row_heading level0 row18\" >18</th>\n",
       "      <td id=\"T_4ca58_row18_col0\" class=\"data row18 col0\" >banci</td>\n",
       "      <td id=\"T_4ca58_row18_col1\" class=\"data row18 col1\" >138</td>\n",
       "    </tr>\n",
       "    <tr>\n",
       "      <th id=\"T_4ca58_level0_row19\" class=\"row_heading level0 row19\" >19</th>\n",
       "      <td id=\"T_4ca58_row19_col0\" class=\"data row19 col0\" >cacat</td>\n",
       "      <td id=\"T_4ca58_row19_col1\" class=\"data row19 col1\" >135</td>\n",
       "    </tr>\n",
       "  </tbody>\n",
       "</table>\n"
      ],
      "text/plain": [
       "<pandas.io.formats.style.Styler at 0x140d4568070>"
      ]
     },
     "execution_count": 38,
     "metadata": {},
     "output_type": "execute_result"
    }
   ],
   "source": [
    "#df_abusive_count = df_abusive['abusive_occurence'].value_counts().rename_axis('kata_abusive').reset_index(name='counts')\n",
    "df_abusive['temp_list'] = df_abusive['abusive_occurence']\n",
    "top = Counter([item for item in df_abusive['temp_list']])\n",
    "temp_abusive = pd.DataFrame(top.most_common(20))\n",
    "temp_abusive.columns = ['Common_words','count']\n",
    "temp_abusive.style.background_gradient(cmap='Blues')"
   ]
  }
 ],
 "metadata": {
  "kernelspec": {
   "display_name": "Python 3 (ipykernel)",
   "language": "python",
   "name": "python3"
  },
  "language_info": {
   "codemirror_mode": {
    "name": "ipython",
    "version": 3
   },
   "file_extension": ".py",
   "mimetype": "text/x-python",
   "name": "python",
   "nbconvert_exporter": "python",
   "pygments_lexer": "ipython3",
   "version": "3.10.6"
  }
 },
 "nbformat": 4,
 "nbformat_minor": 5
}
